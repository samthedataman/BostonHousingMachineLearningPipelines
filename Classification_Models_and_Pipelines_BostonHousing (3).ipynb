{
  "nbformat": 4,
  "nbformat_minor": 0,
  "metadata": {
    "colab": {
      "name": "Classification_Models_and_Pipelines_BostonHousing.ipynb",
      "provenance": [],
      "collapsed_sections": [],
      "toc_visible": true
    },
    "kernelspec": {
      "name": "python3",
      "display_name": "Python 3"
    }
  },
  "cells": [
    {
      "cell_type": "code",
      "metadata": {
        "id": "WSWrpXepYacQ",
        "colab": {
          "base_uri": "https://localhost:8080/",
          "height": 121
        },
        "outputId": "da9068d7-110d-47ab-caee-e73a5365c637"
      },
      "source": [
        "from google.colab import drive\n",
        "drive.mount('/content/drive')"
      ],
      "execution_count": null,
      "outputs": [
        {
          "output_type": "stream",
          "text": [
            "Go to this URL in a browser: https://accounts.google.com/o/oauth2/auth?client_id=947318989803-6bn6qk8qdgf4n4g3pfee6491hc0brc4i.apps.googleusercontent.com&redirect_uri=urn%3aietf%3awg%3aoauth%3a2.0%3aoob&response_type=code&scope=email%20https%3a%2f%2fwww.googleapis.com%2fauth%2fdocs.test%20https%3a%2f%2fwww.googleapis.com%2fauth%2fdrive%20https%3a%2f%2fwww.googleapis.com%2fauth%2fdrive.photos.readonly%20https%3a%2f%2fwww.googleapis.com%2fauth%2fpeopleapi.readonly\n",
            "\n",
            "Enter your authorization code:\n",
            "··········\n",
            "Mounted at /content/drive\n"
          ],
          "name": "stdout"
        }
      ]
    },
    {
      "cell_type": "code",
      "metadata": {
        "id": "Xof8Ck6tYVeI",
        "colab": {
          "base_uri": "https://localhost:8080/",
          "height": 215
        },
        "outputId": "42ea1735-7bbd-4c57-db76-facbe33c4339"
      },
      "source": [
        "# Hello World Classification: Boston Housing prediction\n",
        "# recode the target variable\n",
        "\n",
        "# Load libraries\n",
        "from pandas import read_csv\n",
        "from pandas.plotting import scatter_matrix\n",
        "from matplotlib import pyplot\n",
        "from sklearn.model_selection import train_test_split\n",
        "from sklearn.model_selection import KFold\n",
        "from sklearn.model_selection import cross_val_score\n",
        "from sklearn.metrics import classification_report\n",
        "from sklearn.metrics import confusion_matrix\n",
        "from sklearn.metrics import accuracy_score\n",
        "from sklearn.linear_model import LogisticRegression\n",
        "from sklearn.tree import DecisionTreeClassifier\n",
        "from sklearn.neighbors import KNeighborsClassifier\n",
        "from sklearn.discriminant_analysis import LinearDiscriminantAnalysis\n",
        "from sklearn.naive_bayes import GaussianNB\n",
        "from sklearn.svm import SVC\n",
        "\n",
        "##################################\n",
        "# Load dataset\n",
        "filename = '/content/drive/My Drive/Data Science with Python Spring 2020/BostonHousing(1).csv'\n",
        "# names = ['sepal-length', 'sepal-width', 'petal-length', 'petal-width', 'class']\n",
        "dataset = read_csv(filename)\n",
        "dataset.head()"
      ],
      "execution_count": null,
      "outputs": [
        {
          "output_type": "execute_result",
          "data": {
            "text/html": [
              "<div>\n",
              "<style scoped>\n",
              "    .dataframe tbody tr th:only-of-type {\n",
              "        vertical-align: middle;\n",
              "    }\n",
              "\n",
              "    .dataframe tbody tr th {\n",
              "        vertical-align: top;\n",
              "    }\n",
              "\n",
              "    .dataframe thead th {\n",
              "        text-align: right;\n",
              "    }\n",
              "</style>\n",
              "<table border=\"1\" class=\"dataframe\">\n",
              "  <thead>\n",
              "    <tr style=\"text-align: right;\">\n",
              "      <th></th>\n",
              "      <th>crim</th>\n",
              "      <th>zn</th>\n",
              "      <th>indus</th>\n",
              "      <th>chas</th>\n",
              "      <th>nox</th>\n",
              "      <th>rm</th>\n",
              "      <th>age</th>\n",
              "      <th>dis</th>\n",
              "      <th>rad</th>\n",
              "      <th>tax</th>\n",
              "      <th>ptratio</th>\n",
              "      <th>b</th>\n",
              "      <th>lstat</th>\n",
              "      <th>medv</th>\n",
              "    </tr>\n",
              "  </thead>\n",
              "  <tbody>\n",
              "    <tr>\n",
              "      <th>0</th>\n",
              "      <td>0.00632</td>\n",
              "      <td>18.0</td>\n",
              "      <td>2.31</td>\n",
              "      <td>0</td>\n",
              "      <td>0.538</td>\n",
              "      <td>6.575</td>\n",
              "      <td>65.2</td>\n",
              "      <td>4.0900</td>\n",
              "      <td>1</td>\n",
              "      <td>296</td>\n",
              "      <td>15.3</td>\n",
              "      <td>396.90</td>\n",
              "      <td>4.98</td>\n",
              "      <td>24.0</td>\n",
              "    </tr>\n",
              "    <tr>\n",
              "      <th>1</th>\n",
              "      <td>0.02731</td>\n",
              "      <td>0.0</td>\n",
              "      <td>7.07</td>\n",
              "      <td>0</td>\n",
              "      <td>0.469</td>\n",
              "      <td>6.421</td>\n",
              "      <td>78.9</td>\n",
              "      <td>4.9671</td>\n",
              "      <td>2</td>\n",
              "      <td>242</td>\n",
              "      <td>17.8</td>\n",
              "      <td>396.90</td>\n",
              "      <td>9.14</td>\n",
              "      <td>21.6</td>\n",
              "    </tr>\n",
              "    <tr>\n",
              "      <th>2</th>\n",
              "      <td>0.02729</td>\n",
              "      <td>0.0</td>\n",
              "      <td>7.07</td>\n",
              "      <td>0</td>\n",
              "      <td>0.469</td>\n",
              "      <td>7.185</td>\n",
              "      <td>61.1</td>\n",
              "      <td>4.9671</td>\n",
              "      <td>2</td>\n",
              "      <td>242</td>\n",
              "      <td>17.8</td>\n",
              "      <td>392.83</td>\n",
              "      <td>4.03</td>\n",
              "      <td>34.7</td>\n",
              "    </tr>\n",
              "    <tr>\n",
              "      <th>3</th>\n",
              "      <td>0.03237</td>\n",
              "      <td>0.0</td>\n",
              "      <td>2.18</td>\n",
              "      <td>0</td>\n",
              "      <td>0.458</td>\n",
              "      <td>6.998</td>\n",
              "      <td>45.8</td>\n",
              "      <td>6.0622</td>\n",
              "      <td>3</td>\n",
              "      <td>222</td>\n",
              "      <td>18.7</td>\n",
              "      <td>394.63</td>\n",
              "      <td>2.94</td>\n",
              "      <td>33.4</td>\n",
              "    </tr>\n",
              "    <tr>\n",
              "      <th>4</th>\n",
              "      <td>0.06905</td>\n",
              "      <td>0.0</td>\n",
              "      <td>2.18</td>\n",
              "      <td>0</td>\n",
              "      <td>0.458</td>\n",
              "      <td>7.147</td>\n",
              "      <td>54.2</td>\n",
              "      <td>6.0622</td>\n",
              "      <td>3</td>\n",
              "      <td>222</td>\n",
              "      <td>18.7</td>\n",
              "      <td>396.90</td>\n",
              "      <td>5.33</td>\n",
              "      <td>36.2</td>\n",
              "    </tr>\n",
              "  </tbody>\n",
              "</table>\n",
              "</div>"
            ],
            "text/plain": [
              "      crim    zn  indus  chas    nox  ...  tax  ptratio       b  lstat  medv\n",
              "0  0.00632  18.0   2.31     0  0.538  ...  296     15.3  396.90   4.98  24.0\n",
              "1  0.02731   0.0   7.07     0  0.469  ...  242     17.8  396.90   9.14  21.6\n",
              "2  0.02729   0.0   7.07     0  0.469  ...  242     17.8  392.83   4.03  34.7\n",
              "3  0.03237   0.0   2.18     0  0.458  ...  222     18.7  394.63   2.94  33.4\n",
              "4  0.06905   0.0   2.18     0  0.458  ...  222     18.7  396.90   5.33  36.2\n",
              "\n",
              "[5 rows x 14 columns]"
            ]
          },
          "metadata": {
            "tags": []
          },
          "execution_count": 3
        }
      ]
    },
    {
      "cell_type": "code",
      "metadata": {
        "id": "7Tb4bq-Y6ui6",
        "colab": {
          "base_uri": "https://localhost:8080/",
          "height": 692
        },
        "outputId": "426c723d-fcf1-45b9-a367-2dc062af77be"
      },
      "source": [
        "####################################\n",
        "# Summarize Data\n",
        "\n",
        "# Descriptive statistics\n",
        "# shape\n",
        "print(dataset.shape)\n",
        "# head\n",
        "print(dataset.head(20))\n",
        "# descriptions\n",
        "print(dataset.describe())\n",
        "# class distribution\n",
        "# make a new target variable called 'class'\n",
        "import numpy as np\n",
        "dataset['class'] = (dataset['medv'] > np.mean(dataset['medv'])) * 1\n",
        "print(dataset.groupby('class').size())"
      ],
      "execution_count": null,
      "outputs": [
        {
          "output_type": "stream",
          "text": [
            "(506, 14)\n",
            "       crim    zn  indus  chas    nox  ...  tax  ptratio       b  lstat  medv\n",
            "0   0.00632  18.0   2.31     0  0.538  ...  296     15.3  396.90   4.98  24.0\n",
            "1   0.02731   0.0   7.07     0  0.469  ...  242     17.8  396.90   9.14  21.6\n",
            "2   0.02729   0.0   7.07     0  0.469  ...  242     17.8  392.83   4.03  34.7\n",
            "3   0.03237   0.0   2.18     0  0.458  ...  222     18.7  394.63   2.94  33.4\n",
            "4   0.06905   0.0   2.18     0  0.458  ...  222     18.7  396.90   5.33  36.2\n",
            "5   0.02985   0.0   2.18     0  0.458  ...  222     18.7  394.12   5.21  28.7\n",
            "6   0.08829  12.5   7.87     0  0.524  ...  311     15.2  395.60  12.43  22.9\n",
            "7   0.14455  12.5   7.87     0  0.524  ...  311     15.2  396.90  19.15  27.1\n",
            "8   0.21124  12.5   7.87     0  0.524  ...  311     15.2  386.63  29.93  16.5\n",
            "9   0.17004  12.5   7.87     0  0.524  ...  311     15.2  386.71  17.10  18.9\n",
            "10  0.22489  12.5   7.87     0  0.524  ...  311     15.2  392.52  20.45  15.0\n",
            "11  0.11747  12.5   7.87     0  0.524  ...  311     15.2  396.90  13.27  18.9\n",
            "12  0.09378  12.5   7.87     0  0.524  ...  311     15.2  390.50  15.71  21.7\n",
            "13  0.62976   0.0   8.14     0  0.538  ...  307     21.0  396.90   8.26  20.4\n",
            "14  0.63796   0.0   8.14     0  0.538  ...  307     21.0  380.02  10.26  18.2\n",
            "15  0.62739   0.0   8.14     0  0.538  ...  307     21.0  395.62   8.47  19.9\n",
            "16  1.05393   0.0   8.14     0  0.538  ...  307     21.0  386.85   6.58  23.1\n",
            "17  0.78420   0.0   8.14     0  0.538  ...  307     21.0  386.75  14.67  17.5\n",
            "18  0.80271   0.0   8.14     0  0.538  ...  307     21.0  288.99  11.69  20.2\n",
            "19  0.72580   0.0   8.14     0  0.538  ...  307     21.0  390.95  11.28  18.2\n",
            "\n",
            "[20 rows x 14 columns]\n",
            "             crim          zn       indus  ...           b       lstat        medv\n",
            "count  506.000000  506.000000  506.000000  ...  506.000000  506.000000  506.000000\n",
            "mean     3.613524   11.363636   11.136779  ...  356.674032   12.653063   22.532806\n",
            "std      8.601545   23.322453    6.860353  ...   91.294864    7.141062    9.197104\n",
            "min      0.006320    0.000000    0.460000  ...    0.320000    1.730000    5.000000\n",
            "25%      0.082045    0.000000    5.190000  ...  375.377500    6.950000   17.025000\n",
            "50%      0.256510    0.000000    9.690000  ...  391.440000   11.360000   21.200000\n",
            "75%      3.677082   12.500000   18.100000  ...  396.225000   16.955000   25.000000\n",
            "max     88.976200  100.000000   27.740000  ...  396.900000   37.970000   50.000000\n",
            "\n",
            "[8 rows x 14 columns]\n",
            "class\n",
            "0    297\n",
            "1    209\n",
            "dtype: int64\n"
          ],
          "name": "stdout"
        }
      ]
    },
    {
      "cell_type": "code",
      "metadata": {
        "id": "idMmW8Co6zPZ",
        "colab": {
          "base_uri": "https://localhost:8080/",
          "height": 281
        },
        "outputId": "54218d94-4ca8-492f-9104-0267c1524e10"
      },
      "source": [
        "#######################################\n",
        "# Data visualizations\n",
        "\n",
        "# box and whisker plots\n",
        "#dataset.plot(kind='box', subplots=True, layout=(dataset.shape[1],dataset.shape[1]), sharex=False, sharey=False)\n",
        "#pyplot.show()\n",
        "# histograms - alphabetical!\n",
        "dataset.hist()\n",
        "pyplot.show()\n",
        "# scatter plot matrix\n",
        "#scatter_matrix(dataset)\n",
        "# pyplot.show()\n"
      ],
      "execution_count": null,
      "outputs": [
        {
          "output_type": "display_data",
          "data": {
            "image/png": "[encoded data removed]",
            "text/plain": [
              "<Figure size 432x288 with 16 Axes>"
            ]
          },
          "metadata": {
            "tags": []
          }
        }
      ]
    },
    {
      "cell_type": "code",
      "metadata": {
        "id": "eP3zoTFx-rwd",
        "colab": {
          "base_uri": "https://localhost:8080/",
          "height": 34
        },
        "outputId": "159ae532-4d2e-4e97-b721-a60e0fc232be"
      },
      "source": [
        "dataset.shape"
      ],
      "execution_count": null,
      "outputs": [
        {
          "output_type": "execute_result",
          "data": {
            "text/plain": [
              "(506, 15)"
            ]
          },
          "metadata": {
            "tags": []
          },
          "execution_count": 10
        }
      ]
    },
    {
      "cell_type": "code",
      "metadata": {
        "id": "Rlj0Zthl7U7w",
        "colab": {
          "base_uri": "https://localhost:8080/",
          "height": 34
        },
        "outputId": "44a1abdc-fe17-4b29-ce2a-89ac5a23a8a7"
      },
      "source": [
        "############################################\n",
        "# Prepare Data\n",
        "\n",
        "# Split-out validation dataset\n",
        "array = dataset.values\n",
        "X = array[:,0:13]\n",
        "Y = array[:,14]\n",
        "print(X.shape, Y.shape)"
      ],
      "execution_count": null,
      "outputs": [
        {
          "output_type": "stream",
          "text": [
            "(506, 13) (506,)\n"
          ],
          "name": "stdout"
        }
      ]
    },
    {
      "cell_type": "code",
      "metadata": {
        "id": "ihhoIZVl_xLo"
      },
      "source": [
        "# of course, you could min/max features and add other polynomials!"
      ],
      "execution_count": null,
      "outputs": []
    },
    {
      "cell_type": "code",
      "metadata": {
        "id": "G7WCynjJ-26S"
      },
      "source": [
        "validation_size = 0.20\n",
        "seed = 7\n",
        "X_train, X_validation, Y_train, Y_validation = train_test_split(X, Y, test_size=validation_size, random_state=seed)"
      ],
      "execution_count": null,
      "outputs": []
    },
    {
      "cell_type": "code",
      "metadata": {
        "id": "GYesAEz47g-Y"
      },
      "source": [
        "####################################################\n",
        "# Spot-Check Algorithms\n",
        "\n",
        "\n",
        "models = []\n",
        "models.append(('LR', LogisticRegression(max_iter=1000000)))\n",
        "models.append(('LDA', LinearDiscriminantAnalysis()))\n",
        "models.append(('KNN', KNeighborsClassifier()))\n",
        "models.append(('CART', DecisionTreeClassifier()))\n",
        "models.append(('NB', GaussianNB()))\n",
        "models.append(('SVM', SVC()))"
      ],
      "execution_count": null,
      "outputs": []
    },
    {
      "cell_type": "code",
      "metadata": {
        "id": "x3h6IzHO7lZ-",
        "colab": {
          "base_uri": "https://localhost:8080/",
          "height": 118
        },
        "outputId": "6e795db6-304c-4ce3-b917-cfa1fe505c6c"
      },
      "source": [
        "##################################################\n",
        "# evaluate each model in turn\n",
        "results = []\n",
        "names = []\n",
        "\n",
        "for name, model in models:\n",
        "\tkfold = KFold(n_splits=10, random_state=seed, shuffle=True)\n",
        "\tcv_results = cross_val_score(model, X_train, Y_train, cv=kfold, scoring='accuracy')\n",
        "\tresults.append(cv_results)\n",
        "\tnames.append(name)\n",
        "\tmsg = \"%s: %f (%f)\" % (name, cv_results.mean(), cv_results.std())\n",
        "\tprint(msg)"
      ],
      "execution_count": null,
      "outputs": [
        {
          "output_type": "stream",
          "text": [
            "LR: 0.891159 (0.029554)\n",
            "LDA: 0.876098 (0.029920)\n",
            "KNN: 0.809329 (0.050787)\n",
            "CART: 0.841280 (0.050742)\n",
            "NB: 0.745122 (0.040855)\n",
            "SVM: 0.737866 (0.050478)\n"
          ],
          "name": "stdout"
        }
      ]
    },
    {
      "cell_type": "code",
      "metadata": {
        "id": "dfQj6rqb7spN",
        "colab": {
          "base_uri": "https://localhost:8080/",
          "height": 294
        },
        "outputId": "b632017b-dd25-4692-eb6f-26c7947e1a75"
      },
      "source": [
        "#####################################\n",
        "# Compare Algorithms\n",
        "fig = pyplot.figure()\n",
        "fig.suptitle('Algorithm Comparison')\n",
        "ax = fig.add_subplot(111)\n",
        "pyplot.boxplot(results)\n",
        "ax.set_xticklabels(names)\n",
        "pyplot.show()"
      ],
      "execution_count": null,
      "outputs": [
        {
          "output_type": "display_data",
          "data": {
            "image/png": "[encoded data removed]",
            "text/plain": [
              "<Figure size 432x288 with 1 Axes>"
            ]
          },
          "metadata": {
            "tags": []
          }
        }
      ]
    },
    {
      "cell_type": "code",
      "metadata": {
        "id": "h6UyAJfH7wC8",
        "colab": {
          "base_uri": "https://localhost:8080/",
          "height": 218
        },
        "outputId": "1a8c0fe2-8da5-4d94-8c83-532e176fa1bc"
      },
      "source": [
        "############################################\n",
        "# Make predictions on validation dataset\n",
        "lr = LogisticRegression(max_iter=100000)\n",
        "lr.fit(X_train, Y_train)\n",
        "predictions = lr.predict(X_validation)\n",
        "print(accuracy_score(Y_validation, predictions))\n",
        "print(confusion_matrix(Y_validation, predictions))\n",
        "print(classification_report(Y_validation, predictions))"
      ],
      "execution_count": null,
      "outputs": [
        {
          "output_type": "stream",
          "text": [
            "0.8235294117647058\n",
            "[[50  6]\n",
            " [12 34]]\n",
            "              precision    recall  f1-score   support\n",
            "\n",
            "         0.0       0.81      0.89      0.85        56\n",
            "         1.0       0.85      0.74      0.79        46\n",
            "\n",
            "    accuracy                           0.82       102\n",
            "   macro avg       0.83      0.82      0.82       102\n",
            "weighted avg       0.83      0.82      0.82       102\n",
            "\n"
          ],
          "name": "stdout"
        }
      ]
    },
    {
      "cell_type": "code",
      "metadata": {
        "id": "KzP2n6qU_6Sy"
      },
      "source": [
        "########################################\n",
        "# you could also code it like in Week 4!\n",
        "\n",
        "def perf_measure(y_actual, y_pred):\n",
        "  TP = 0\n",
        "  FP = 0\n",
        "  TN = 0\n",
        "  FN = 0\n",
        "\n",
        "  for i in range(len(y_pred)):\n",
        "    if y_actual[i]==y_pred[i]==1:\n",
        "      TP += 1\n",
        "    if y_pred[i]==1 and y_actual[i]!=y_pred[i]:\n",
        "      FP += 1\n",
        "    if y_actual[i]==y_pred[i]==0:\n",
        "      TN += 1\n",
        "    if y_pred[i]==0 and y_actual[i]!=y_pred[i]:\n",
        "      FN += 1\n",
        "  tpr = TP/(TP+FN)\n",
        "  tnr = TN/(TN+FP)\n",
        "  fnr = 1-tpr\n",
        "  fpr = 1-tnr\n",
        "  print('TP:',TP,' FP:', FP,' TN:', TN,' FN:', FN)\n",
        "  print('TPR:', round(tpr,2), ' TNR:', round(tnr,2), ' FNR:', round(fnr,2),' FPR:',round(fpr,2) )"
      ],
      "execution_count": null,
      "outputs": []
    },
    {
      "cell_type": "code",
      "metadata": {
        "id": "NGd8MBrYAY6A",
        "colab": {
          "base_uri": "https://localhost:8080/",
          "height": 52
        },
        "outputId": "ac35de2c-bdd4-4667-fd6d-58095f5d041b"
      },
      "source": [
        "# VOILA!\n",
        "perf_measure(Y_validation,\n",
        "             predictions)"
      ],
      "execution_count": null,
      "outputs": [
        {
          "output_type": "stream",
          "text": [
            "TP: 45  FP: 0  TN: 56  FN: 1\n",
            "TPR: 0.98  TNR: 1.0  FNR: 0.02  FPR: 0.0\n"
          ],
          "name": "stdout"
        }
      ]
    }
  ]
}